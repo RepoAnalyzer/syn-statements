{
 "cells": [
  {
   "cell_type": "markdown",
   "source": [
    "# Проверка работы модели"
   ],
   "metadata": {
    "collapsed": false,
    "pycharm": {
     "name": "#%% md\n"
    }
   }
  },
  {
   "cell_type": "code",
   "execution_count": 73,
   "metadata": {
    "collapsed": true,
    "pycharm": {
     "name": "#%%\n"
    }
   },
   "outputs": [],
   "source": [
    "from transformers import AutoTokenizer, AutoModelForSequenceClassification, pipeline\n",
    "from datasets import load_dataset\n",
    "from evaluate import evaluator\n",
    "\n",
    "import seaborn as sns\n",
    "import matplotlib.pyplot as plt\n",
    "import evaluate\n",
    "\n",
    "%matplotlib inline\n",
    "sns.set(style='whitegrid')"
   ]
  },
  {
   "cell_type": "code",
   "execution_count": 80,
   "outputs": [],
   "source": [
    "# Загрузка токенизатора и модели\n",
    "tokenizer = AutoTokenizer.from_pretrained('roberta-base')\n",
    "model = AutoModelForSequenceClassification.from_pretrained('RoBERTa/RoBERTA_best_model')"
   ],
   "metadata": {
    "collapsed": false,
    "pycharm": {
     "name": "#%%\n"
    }
   }
  },
  {
   "cell_type": "markdown",
   "source": [
    "## Применение модели"
   ],
   "metadata": {
    "collapsed": false,
    "pycharm": {
     "name": "#%% md\n"
    }
   }
  },
  {
   "cell_type": "code",
   "execution_count": 109,
   "outputs": [],
   "source": [
    "# Задание pipeline\n",
    "classifier = pipeline(\"text-classification\", model=model, tokenizer=tokenizer, device=0)"
   ],
   "metadata": {
    "collapsed": false,
    "pycharm": {
     "name": "#%%\n"
    }
   }
  },
  {
   "cell_type": "code",
   "execution_count": 65,
   "outputs": [
    {
     "data": {
      "text/plain": "[{'label': 'bug', 'score': 0.7495560050010681},\n {'label': 'question', 'score': 0.22529597580432892},\n {'label': 'enhancement', 'score': 0.014066243544220924},\n {'label': 'documentation', 'score': 0.01108174491673708}]"
     },
     "execution_count": 65,
     "metadata": {},
     "output_type": "execute_result"
    }
   ],
   "source": [
    "# Пример метки bug\n",
    "classifier(\"I has a bug!\", top_k=4)"
   ],
   "metadata": {
    "collapsed": false,
    "pycharm": {
     "name": "#%%\n"
    }
   }
  },
  {
   "cell_type": "code",
   "execution_count": 66,
   "outputs": [
    {
     "data": {
      "text/plain": "[{'label': 'enhancement', 'score': 0.9391063451766968},\n {'label': 'documentation', 'score': 0.04345748573541641},\n {'label': 'question', 'score': 0.014191466383635998},\n {'label': 'bug', 'score': 0.003244661493226886}]"
     },
     "execution_count": 66,
     "metadata": {},
     "output_type": "execute_result"
    }
   ],
   "source": [
    "# Пример метки enhancement\n",
    "classifier(\"Suggest feature\", top_k=4)"
   ],
   "metadata": {
    "collapsed": false,
    "pycharm": {
     "name": "#%%\n"
    }
   }
  },
  {
   "cell_type": "code",
   "execution_count": 67,
   "outputs": [
    {
     "data": {
      "text/plain": "[{'label': 'question', 'score': 0.9074325561523438},\n {'label': 'enhancement', 'score': 0.05024679750204086},\n {'label': 'documentation', 'score': 0.0325617752969265},\n {'label': 'bug', 'score': 0.00975882913917303}]"
     },
     "execution_count": 67,
     "metadata": {},
     "output_type": "execute_result"
    }
   ],
   "source": [
    "# Пример метки question\n",
    "classifier(\"Does this app support python?\", top_k=4)"
   ],
   "metadata": {
    "collapsed": false,
    "pycharm": {
     "name": "#%%\n"
    }
   }
  },
  {
   "cell_type": "code",
   "execution_count": 68,
   "outputs": [
    {
     "data": {
      "text/plain": "[{'label': 'documentation', 'score': 0.9842588901519775},\n {'label': 'enhancement', 'score': 0.006323229055851698},\n {'label': 'bug', 'score': 0.005313330329954624},\n {'label': 'question', 'score': 0.0041045453399419785}]"
     },
     "execution_count": 68,
     "metadata": {},
     "output_type": "execute_result"
    }
   ],
   "source": [
    "# Пример метки documentation\n",
    "classifier(\"Documentation missing\", top_k=4)"
   ],
   "metadata": {
    "collapsed": false,
    "pycharm": {
     "name": "#%%\n"
    }
   }
  },
  {
   "cell_type": "markdown",
   "source": [
    "## Оценка качества модели"
   ],
   "metadata": {
    "collapsed": false,
    "pycharm": {
     "name": "#%% md\n"
    }
   }
  },
  {
   "cell_type": "code",
   "execution_count": null,
   "outputs": [],
   "source": [
    "test_dataset = load_dataset(\"csv\", data_files=\"issue_data_encoded.csv\", data_dir=\"data/preprocessed/\")\n",
    "test_dataset = test_dataset['train'].shuffle(seed=7).select(range(6500))"
   ],
   "metadata": {
    "collapsed": false,
    "pycharm": {
     "name": "#%%\n",
     "is_executing": true
    }
   }
  },
  {
   "cell_type": "code",
   "execution_count": 189,
   "outputs": [],
   "source": [
    "# Загрузка оценщика\n",
    "task_evaluator = evaluator(\"text-classification\")"
   ],
   "metadata": {
    "collapsed": false,
    "pycharm": {
     "name": "#%%\n"
    }
   }
  },
  {
   "cell_type": "code",
   "execution_count": 190,
   "outputs": [
    {
     "data": {
      "text/plain": "{'accuracy': 0.8116923076923077,\n 'total_time_in_seconds': 137.59188559999984,\n 'samples_per_second': 47.24115794805277,\n 'latency_in_seconds': 0.021167982399999972}"
     },
     "execution_count": 190,
     "metadata": {},
     "output_type": "execute_result"
    }
   ],
   "source": [
    "task_evaluator.compute(\n",
    "    model_or_pipeline=classifier,\n",
    "    data=test_dataset,\n",
    "    label_column='labels',\n",
    "    label_mapping={'bug' : 0, 'enhancement' : 1, 'documentation' : 2, 'question' : 3},\n",
    ")"
   ],
   "metadata": {
    "collapsed": false,
    "pycharm": {
     "name": "#%%\n"
    }
   }
  },
  {
   "cell_type": "code",
   "execution_count": 191,
   "outputs": [],
   "source": [
    "# Загрузка F-меры\n",
    "metric = evaluate.load(\"f1\")"
   ],
   "metadata": {
    "collapsed": false,
    "pycharm": {
     "name": "#%%\n"
    }
   }
  },
  {
   "cell_type": "code",
   "execution_count": 192,
   "outputs": [],
   "source": [
    "def label_to_num(label):\n",
    "    if label == 'bug':\n",
    "        number = 0\n",
    "    elif label == 'enhancement':\n",
    "        number = 1\n",
    "    elif label == 'documentation':\n",
    "        number = 2\n",
    "    else:\n",
    "        number = 3\n",
    "    return number"
   ],
   "metadata": {
    "collapsed": false,
    "pycharm": {
     "name": "#%%\n"
    }
   }
  },
  {
   "cell_type": "code",
   "execution_count": 193,
   "outputs": [],
   "source": [
    "# Получение предсказанных меток\n",
    "pred = classifier(test_dataset['text'], padding=True, truncation=True)\n",
    "pred_list = [pred[i]['label'] for i in range(0, len(pred))]"
   ],
   "metadata": {
    "collapsed": false,
    "pycharm": {
     "name": "#%%\n"
    }
   }
  },
  {
   "cell_type": "code",
   "execution_count": 194,
   "outputs": [],
   "source": [
    "pred_list = list(map(label_to_num, pred_list))"
   ],
   "metadata": {
    "collapsed": false,
    "pycharm": {
     "name": "#%%\n"
    }
   }
  },
  {
   "cell_type": "code",
   "execution_count": 195,
   "outputs": [],
   "source": [
    "# Преобразование исходных меток\n",
    "ref = test_dataset['labels']"
   ],
   "metadata": {
    "collapsed": false,
    "pycharm": {
     "name": "#%%\n"
    }
   }
  },
  {
   "cell_type": "code",
   "execution_count": 199,
   "outputs": [],
   "source": [
    "# Расчёт f-меры\n",
    "f1 = metric.compute(predictions=pred_list, references=ref, average=None)"
   ],
   "metadata": {
    "collapsed": false,
    "pycharm": {
     "name": "#%%\n"
    }
   }
  },
  {
   "cell_type": "code",
   "execution_count": 200,
   "outputs": [
    {
     "data": {
      "text/plain": "<Figure size 640x480 with 1 Axes>",
      "image/png": "[encoded data removed]"
     },
     "metadata": {},
     "output_type": "display_data"
    }
   ],
   "source": [
    "# График F-меры по классам\n",
    "_, ax = plt.subplots()\n",
    "sns.barplot(x=f1['f1'], y=['bug', 'enhancement', 'documentation', 'question'])\n",
    "ax.set_xlim(0, 1)\n",
    "plt.show()"
   ],
   "metadata": {
    "collapsed": false,
    "pycharm": {
     "name": "#%%\n"
    }
   }
  }
 ],
 "metadata": {
  "kernelspec": {
   "display_name": "Python 3",
   "language": "python",
   "name": "python3"
  },
  "language_info": {
   "codemirror_mode": {
    "name": "ipython",
    "version": 2
   },
   "file_extension": ".py",
   "mimetype": "text/x-python",
   "name": "python",
   "nbconvert_exporter": "python",
   "pygments_lexer": "ipython2",
   "version": "2.7.6"
  }
 },
 "nbformat": 4,
 "nbformat_minor": 0
}