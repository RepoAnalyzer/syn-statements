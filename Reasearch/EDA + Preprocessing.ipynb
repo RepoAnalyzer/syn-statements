{
 "cells": [
  {
   "cell_type": "markdown",
   "source": [
    "# EDA и предобработка данных"
   ],
   "metadata": {
    "collapsed": false,
    "pycharm": {
     "name": "#%% md\n"
    }
   }
  },
  {
   "cell_type": "code",
   "execution_count": 1,
   "metadata": {
    "collapsed": true,
    "pycharm": {
     "name": "#%%\n"
    }
   },
   "outputs": [],
   "source": [
    "from bs4 import BeautifulSoup\n",
    "from markdown import markdown\n",
    "\n",
    "import pandas as pd\n",
    "import matplotlib.pyplot as plt\n",
    "import seaborn as sns\n",
    "import re\n",
    "\n",
    "%matplotlib inline\n",
    "sns.set(style='whitegrid')"
   ]
  },
  {
   "cell_type": "markdown",
   "source": [
    "## Загрузка данных. EDA"
   ],
   "metadata": {
    "collapsed": false,
    "pycharm": {
     "name": "#%% md\n"
    }
   }
  },
  {
   "cell_type": "code",
   "execution_count": 2,
   "outputs": [],
   "source": [
    "# Загрузка исходных датасетов и их объединение\n",
    "train_data = pd.read_csv(\"data/initial/nlbse23-issue-classification-train.csv\")\n",
    "test_data = pd.read_csv(\"data/initial/nlbse23-issue-classification-test.csv\")\n",
    "data = pd.concat([train_data, test_data], ignore_index=True)"
   ],
   "metadata": {
    "collapsed": false,
    "pycharm": {
     "name": "#%%\n"
    }
   }
  },
  {
   "cell_type": "code",
   "execution_count": 3,
   "outputs": [
    {
     "data": {
      "text/plain": "                 id    labels   \n159300   1092889640   feature  \\\n399764   1118803672       bug   \n639653    557980306       bug   \n620378    797420143   feature   \n232515   1375936742       bug   \n978061   1254155643       bug   \n371271   1272441546  question   \n435737   1178294166       bug   \n391028    684076155       bug   \n1181865  1331670957       bug   \n\n                                                     title   \n159300                         Create and manipulate posts  \\\n399764   bug: Cannot read properties of undefined (read...   \n639653             Filters not processed for Sse responses   \n620378    Bench: develop cloudmesh provider for atmosphere   \n232515                             横向排版 shift+click 从右向左无效   \n978061              Linux hosted functions stopped working   \n371271                            Diff is not fine-grained   \n435737   pyplot_backend Imports backend_qt5agg Even For...   \n391028   attribute-error ignores parent variable annota...   \n1181865         Heading levels should only increase by one   \n\n                                                      body author_association  \n159300   **User Stories**\\r\\n\\r\\n* As a user, I can cre...              OWNER  \n399764   ### Describe the Bug\\r\\n\\r\\nAny ideas or point...               NONE  \n639653   **Describe the bug**\\r\\nI am running a client ...               NONE  \n620378                                                 NaN             MEMBER  \n232515             https://ld246.com/article/1663036247544             MEMBER  \n978061   From today (31-05-2022) all my Linux Azure Fun...               NONE  \n371271   The AST diff for the patch - https://github.co...        CONTRIBUTOR  \n435737   Viewrendered installs a qt graphics backend to...        CONTRIBUTOR  \n391028   Example:\\r\\n```\\r\\nclass BaseFoo:\\r\\n    x: in...               NONE  \n1181865  Category : Accessibility \\r\\n\\r\\n```\\r\\n<h3 cl...              OWNER  ",
      "text/html": "<div>\n<style scoped>\n    .dataframe tbody tr th:only-of-type {\n        vertical-align: middle;\n    }\n\n    .dataframe tbody tr th {\n        vertical-align: top;\n    }\n\n    .dataframe thead th {\n        text-align: right;\n    }\n</style>\n<table border=\"1\" class=\"dataframe\">\n  <thead>\n    <tr style=\"text-align: right;\">\n      <th></th>\n      <th>id</th>\n      <th>labels</th>\n      <th>title</th>\n      <th>body</th>\n      <th>author_association</th>\n    </tr>\n  </thead>\n  <tbody>\n    <tr>\n      <th>159300</th>\n      <td>1092889640</td>\n      <td>feature</td>\n      <td>Create and manipulate posts</td>\n      <td>**User Stories**\\r\\n\\r\\n* As a user, I can cre...</td>\n      <td>OWNER</td>\n    </tr>\n    <tr>\n      <th>399764</th>\n      <td>1118803672</td>\n      <td>bug</td>\n      <td>bug: Cannot read properties of undefined (read...</td>\n      <td>### Describe the Bug\\r\\n\\r\\nAny ideas or point...</td>\n      <td>NONE</td>\n    </tr>\n    <tr>\n      <th>639653</th>\n      <td>557980306</td>\n      <td>bug</td>\n      <td>Filters not processed for Sse responses</td>\n      <td>**Describe the bug**\\r\\nI am running a client ...</td>\n      <td>NONE</td>\n    </tr>\n    <tr>\n      <th>620378</th>\n      <td>797420143</td>\n      <td>feature</td>\n      <td>Bench: develop cloudmesh provider for atmosphere</td>\n      <td>NaN</td>\n      <td>MEMBER</td>\n    </tr>\n    <tr>\n      <th>232515</th>\n      <td>1375936742</td>\n      <td>bug</td>\n      <td>横向排版 shift+click 从右向左无效</td>\n      <td>https://ld246.com/article/1663036247544</td>\n      <td>MEMBER</td>\n    </tr>\n    <tr>\n      <th>978061</th>\n      <td>1254155643</td>\n      <td>bug</td>\n      <td>Linux hosted functions stopped working</td>\n      <td>From today (31-05-2022) all my Linux Azure Fun...</td>\n      <td>NONE</td>\n    </tr>\n    <tr>\n      <th>371271</th>\n      <td>1272441546</td>\n      <td>question</td>\n      <td>Diff is not fine-grained</td>\n      <td>The AST diff for the patch - https://github.co...</td>\n      <td>CONTRIBUTOR</td>\n    </tr>\n    <tr>\n      <th>435737</th>\n      <td>1178294166</td>\n      <td>bug</td>\n      <td>pyplot_backend Imports backend_qt5agg Even For...</td>\n      <td>Viewrendered installs a qt graphics backend to...</td>\n      <td>CONTRIBUTOR</td>\n    </tr>\n    <tr>\n      <th>391028</th>\n      <td>684076155</td>\n      <td>bug</td>\n      <td>attribute-error ignores parent variable annota...</td>\n      <td>Example:\\r\\n```\\r\\nclass BaseFoo:\\r\\n    x: in...</td>\n      <td>NONE</td>\n    </tr>\n    <tr>\n      <th>1181865</th>\n      <td>1331670957</td>\n      <td>bug</td>\n      <td>Heading levels should only increase by one</td>\n      <td>Category : Accessibility \\r\\n\\r\\n```\\r\\n&lt;h3 cl...</td>\n      <td>OWNER</td>\n    </tr>\n  </tbody>\n</table>\n</div>"
     },
     "execution_count": 3,
     "metadata": {},
     "output_type": "execute_result"
    }
   ],
   "source": [
    "# Десять случайных записей в исходном датасете\n",
    "data.sample(10)"
   ],
   "metadata": {
    "collapsed": false,
    "pycharm": {
     "name": "#%%\n"
    }
   }
  },
  {
   "cell_type": "code",
   "execution_count": 4,
   "outputs": [
    {
     "data": {
      "text/plain": "(1418201, 5)"
     },
     "execution_count": 4,
     "metadata": {},
     "output_type": "execute_result"
    }
   ],
   "source": [
    "# Размер исходного датасета\n",
    "data.shape"
   ],
   "metadata": {
    "collapsed": false,
    "pycharm": {
     "name": "#%%\n"
    }
   }
  },
  {
   "cell_type": "code",
   "execution_count": 5,
   "outputs": [
    {
     "data": {
      "text/plain": "id                     int64\nlabels                object\ntitle                 object\nbody                  object\nauthor_association    object\ndtype: object"
     },
     "execution_count": 5,
     "metadata": {},
     "output_type": "execute_result"
    }
   ],
   "source": [
    "# Типы столбцов\n",
    "data.dtypes"
   ],
   "metadata": {
    "collapsed": false,
    "pycharm": {
     "name": "#%%\n"
    }
   }
  },
  {
   "cell_type": "code",
   "execution_count": 6,
   "outputs": [
    {
     "data": {
      "text/plain": "id                       0\nlabels                   0\ntitle                    4\nbody                  5147\nauthor_association       0\ndtype: int64"
     },
     "execution_count": 6,
     "metadata": {},
     "output_type": "execute_result"
    }
   ],
   "source": [
    "# Пустые значения\n",
    "data.isnull().sum()"
   ],
   "metadata": {
    "collapsed": false,
    "pycharm": {
     "name": "#%%\n"
    }
   }
  },
  {
   "cell_type": "code",
   "execution_count": 7,
   "outputs": [
    {
     "data": {
      "text/plain": "36411"
     },
     "execution_count": 7,
     "metadata": {},
     "output_type": "execute_result"
    }
   ],
   "source": [
    "# Дублирующиеся значения\n",
    "data.duplicated().sum()"
   ],
   "metadata": {
    "collapsed": false,
    "pycharm": {
     "name": "#%%\n"
    }
   }
  },
  {
   "cell_type": "code",
   "execution_count": 8,
   "outputs": [
    {
     "data": {
      "text/plain": "'Code from `aioredis` was incorporated into the official `redis` package in v4.2 to adopt the async support.  As a result, `aioredis` will no longer be well maintained.  The switch to `redis` will be relatively painless since the functions+parameters are basically the same.\\r\\n\\r\\nReferences:\\r\\n\\r\\n- https://github.com/aio-libs/aioredis-py#-aioredis-is-now-in-redis-py-420rc1-\\r\\n- https://github.com/redis/redis-py#python-notice'"
     },
     "execution_count": 8,
     "metadata": {},
     "output_type": "execute_result"
    }
   ],
   "source": [
    "# Пример содержимого колонки body\n",
    "data.body[20]"
   ],
   "metadata": {
    "collapsed": false,
    "pycharm": {
     "name": "#%%\n"
    }
   }
  },
  {
   "cell_type": "code",
   "execution_count": 9,
   "outputs": [
    {
     "data": {
      "text/plain": "<Figure size 640x480 with 1 Axes>",
      "image/png": "[encoded data removed]"
     },
     "metadata": {},
     "output_type": "display_data"
    }
   ],
   "source": [
    "# Распределение меток в исходном датасете\n",
    "sns.countplot(data=data, x='labels')\n",
    "plt.show()"
   ],
   "metadata": {
    "collapsed": false,
    "pycharm": {
     "name": "#%%\n"
    }
   }
  },
  {
   "cell_type": "markdown",
   "source": [
    "## Предобработка данных"
   ],
   "metadata": {
    "collapsed": false,
    "pycharm": {
     "name": "#%% md\n"
    }
   }
  },
  {
   "cell_type": "markdown",
   "source": [
    "Для корректной работы будущих моделей необходимо:\n",
    " - Удалить все дублирующмеся строки;\n",
    " - Удалить все пустые строки;\n",
    " - Избавиться от лишних столцов (id и author_association);\n",
    " - Преобразовать markdown-текст в обычный;\n",
    " - Соединить содержимое столбцов title и body в один столбец text;\n",
    " - Закодировать текстовые метки классов в цифровые.\n",
    "\n",
    "Также можно уменьшить размер исходного датасета для увеличения сбалансированности классов."
   ],
   "metadata": {
    "collapsed": false,
    "pycharm": {
     "name": "#%% md\n"
    }
   }
  },
  {
   "cell_type": "code",
   "execution_count": 10,
   "outputs": [],
   "source": [
    "# Удаление дубликатов\n",
    "data_preprocessed = data.drop_duplicates()"
   ],
   "metadata": {
    "collapsed": false,
    "pycharm": {
     "name": "#%%\n"
    }
   }
  },
  {
   "cell_type": "code",
   "execution_count": 11,
   "outputs": [],
   "source": [
    "# Удаление пустых строк\n",
    "data_preprocessed = data_preprocessed.dropna()"
   ],
   "metadata": {
    "collapsed": false,
    "pycharm": {
     "name": "#%%\n"
    }
   }
  },
  {
   "cell_type": "code",
   "execution_count": 12,
   "outputs": [],
   "source": [
    "# Удаление лишних столбцов\n",
    "data_preprocessed = data_preprocessed.drop(columns=['id', 'author_association'])"
   ],
   "metadata": {
    "collapsed": false,
    "pycharm": {
     "name": "#%%\n"
    }
   }
  },
  {
   "cell_type": "code",
   "execution_count": 13,
   "outputs": [],
   "source": [
    "def markdown_to_text(markdown_string):\n",
    "    \"\"\" Конвертация markdown-текста to обычный текст \"\"\"\n",
    "    # md -> html -> text since BeautifulSoup can extract text cleanly\n",
    "    html = markdown(markdown_string)\n",
    "\n",
    "    # Удаление сниппетов\n",
    "    html = re.sub(r'<pre>(.*?)</pre>', ' ', html)\n",
    "    html = re.sub(r'<code>(.*?)</code >', ' ', html)\n",
    "\n",
    "    # Удаление ссылок\n",
    "    html = re.sub(r'<a href=(.*?)>(.*?)</a>', ' ', html)\n",
    "    html = re.sub(r'https?://\\S+', ' ', html)\n",
    "\n",
    "    # Удаление изображений\n",
    "    html = re.sub(r'<img (.*?)/>', ' ', html)\n",
    "\n",
    "\n",
    "\n",
    "    # Удаление специальных символов\n",
    "    html = re.sub(r'\\s', ' ', html)\n",
    "\n",
    "    # Удаление нескольких пробелов\n",
    "    html = re.sub(r'\\s\\s+', ' ', html)\n",
    "\n",
    "    # Извлечение текста\n",
    "    soup = BeautifulSoup(html, 'lxml')\n",
    "    text = ''.join(soup.findAll(string=True))\n",
    "\n",
    "    return text"
   ],
   "metadata": {
    "collapsed": false,
    "pycharm": {
     "name": "#%%\n"
    }
   }
  },
  {
   "cell_type": "code",
   "execution_count": 14,
   "outputs": [
    {
     "data": {
      "text/plain": "'### What happened?\\n\\nJust successfully install boxbilling but cant login to admin. Detail & password all correct\\n\\n### BoxBilling Version\\n\\nv4.21\\n\\n### What version of PHP are you running?\\n\\nPHP 8.0\\n\\n### Additional Notes\\n\\nAdditional notes'"
     },
     "execution_count": 14,
     "metadata": {},
     "output_type": "execute_result"
    }
   ],
   "source": [
    "# Пример преобразования текста. ДО\n",
    "data.body[1000]"
   ],
   "metadata": {
    "collapsed": false,
    "pycharm": {
     "name": "#%%\n"
    }
   }
  },
  {
   "cell_type": "code",
   "execution_count": 15,
   "outputs": [
    {
     "data": {
      "text/plain": "'What happened? Just successfully install boxbilling but cant login to admin. Detail & password all correct BoxBilling Version v4.21 What version of PHP are you running? PHP 8.0 Additional Notes Additional notes'"
     },
     "execution_count": 15,
     "metadata": {},
     "output_type": "execute_result"
    }
   ],
   "source": [
    "# Пример преобразования текста. ПОСЛЕ\n",
    "markdown_to_text(data.body[1000])"
   ],
   "metadata": {
    "collapsed": false,
    "pycharm": {
     "name": "#%%\n"
    }
   }
  },
  {
   "cell_type": "code",
   "execution_count": 16,
   "outputs": [],
   "source": [
    "# Уменьшение датасета\n",
    "data_question = data_preprocessed[data_preprocessed.labels == \"question\"]\n",
    "data_documentation = data_preprocessed[data_preprocessed.labels == \"documentation\"]\n",
    "data_bug = data_preprocessed[data_preprocessed.labels == \"bug\"].sample(100000, random_state=7)\n",
    "data_feature = data_preprocessed[data_preprocessed.labels == \"feature\"].sample(100000, random_state=7)\n",
    "\n",
    "data_preprocessed_reduced = pd.concat([data_question, data_documentation, data_bug, data_feature])\n",
    "data_preprocessed_reduced = data_preprocessed_reduced.reset_index(drop=True)"
   ],
   "metadata": {
    "collapsed": false,
    "pycharm": {
     "name": "#%%\n"
    }
   }
  },
  {
   "cell_type": "code",
   "execution_count": 17,
   "outputs": [],
   "source": [
    "data_preprocessed_reduced = data_preprocessed_reduced.drop([189465, 189466, 189467, 189468, 189469, 189470,\n",
    "                                                            204171, 204172, 204173, 204174,204175])\n",
    "data_preprocessed_reduced = data_preprocessed_reduced.reset_index(drop=True)"
   ],
   "metadata": {
    "collapsed": false,
    "pycharm": {
     "name": "#%%\n"
    }
   }
  },
  {
   "cell_type": "code",
   "execution_count": 18,
   "outputs": [
    {
     "data": {
      "text/plain": "(344110, 3)"
     },
     "execution_count": 18,
     "metadata": {},
     "output_type": "execute_result"
    }
   ],
   "source": [
    "# Размер нового датасета\n",
    "data_preprocessed_reduced.shape"
   ],
   "metadata": {
    "collapsed": false,
    "pycharm": {
     "name": "#%%\n"
    }
   }
  },
  {
   "cell_type": "code",
   "execution_count": 19,
   "outputs": [
    {
     "data": {
      "text/plain": "<Figure size 640x480 with 1 Axes>",
      "image/png": "[encoded data removed]"
     },
     "metadata": {},
     "output_type": "display_data"
    }
   ],
   "source": [
    "# Распределение меток в новом датасете\n",
    "sns.countplot(data=data_preprocessed_reduced, x='labels')\n",
    "plt.show()"
   ],
   "metadata": {
    "collapsed": false,
    "pycharm": {
     "name": "#%%\n"
    }
   }
  },
  {
   "cell_type": "code",
   "execution_count": 20,
   "outputs": [
    {
     "name": "stdout",
     "output_type": "stream",
     "text": [
      "CPU times: total: 9min 33s\n",
      "Wall time: 9min 42s\n"
     ]
    }
   ],
   "source": [
    "%%time\n",
    "# Преобразование текста в колонке body\n",
    "data_preprocessed_reduced[\"body\"] = data_preprocessed_reduced[\"body\"].map(lambda x: markdown_to_text(x))"
   ],
   "metadata": {
    "collapsed": false,
    "pycharm": {
     "name": "#%%\n"
    }
   }
  },
  {
   "cell_type": "code",
   "execution_count": 21,
   "outputs": [],
   "source": [
    "# Объединение колонок title и body в колонку context\n",
    "data_preprocessed_reduced['text'] = data_preprocessed_reduced['title'] + '. ' + data_preprocessed_reduced['body']"
   ],
   "metadata": {
    "collapsed": false,
    "pycharm": {
     "name": "#%%\n"
    }
   }
  },
  {
   "cell_type": "code",
   "execution_count": 22,
   "outputs": [],
   "source": [
    "# Удаление ненужных столбцов\n",
    "data_final = data_preprocessed_reduced.drop(columns=['title', 'body'])"
   ],
   "metadata": {
    "collapsed": false,
    "pycharm": {
     "name": "#%%\n"
    }
   }
  },
  {
   "cell_type": "code",
   "execution_count": 23,
   "outputs": [],
   "source": [
    "# Кодирование колонки label\n",
    "data_final_encoded = data_final.copy()\n",
    "data_final_encoded['labels'] = data_final_encoded['labels'].map({'bug' : 0, 'feature' : 1, 'documentation' : 2, 'question' : 3})"
   ],
   "metadata": {
    "collapsed": false,
    "pycharm": {
     "name": "#%%\n"
    }
   }
  },
  {
   "cell_type": "code",
   "execution_count": 24,
   "outputs": [
    {
     "data": {
      "text/plain": "        labels                                               text\n317538       1  [ExecuteTx] Review screen: overall UI. Scrolla...\n91752        2  Is ScreenDetails supposed to inherit from Even...\n105517       2  Add use case, Edit command. Add a use case for...\n156188       0  User is not able to launch pgadmin4 4.25  (RM ...\n135946       2  Publish API documentation on the website. Add ...\n99232        2  Update Sysmon Dictionary (Windows) - Event 4. ...\n185913       0  explain the error. ⚠️ This is for issues with ...\n77938        3  Why multiple enums with same value are allowed...\n70689        3  [clkmgr] Double check transactional clock enab...\n245068       1  Meter data responsible sends time series and r...",
      "text/html": "<div>\n<style scoped>\n    .dataframe tbody tr th:only-of-type {\n        vertical-align: middle;\n    }\n\n    .dataframe tbody tr th {\n        vertical-align: top;\n    }\n\n    .dataframe thead th {\n        text-align: right;\n    }\n</style>\n<table border=\"1\" class=\"dataframe\">\n  <thead>\n    <tr style=\"text-align: right;\">\n      <th></th>\n      <th>labels</th>\n      <th>text</th>\n    </tr>\n  </thead>\n  <tbody>\n    <tr>\n      <th>317538</th>\n      <td>1</td>\n      <td>[ExecuteTx] Review screen: overall UI. Scrolla...</td>\n    </tr>\n    <tr>\n      <th>91752</th>\n      <td>2</td>\n      <td>Is ScreenDetails supposed to inherit from Even...</td>\n    </tr>\n    <tr>\n      <th>105517</th>\n      <td>2</td>\n      <td>Add use case, Edit command. Add a use case for...</td>\n    </tr>\n    <tr>\n      <th>156188</th>\n      <td>0</td>\n      <td>User is not able to launch pgadmin4 4.25  (RM ...</td>\n    </tr>\n    <tr>\n      <th>135946</th>\n      <td>2</td>\n      <td>Publish API documentation on the website. Add ...</td>\n    </tr>\n    <tr>\n      <th>99232</th>\n      <td>2</td>\n      <td>Update Sysmon Dictionary (Windows) - Event 4. ...</td>\n    </tr>\n    <tr>\n      <th>185913</th>\n      <td>0</td>\n      <td>explain the error. ⚠️ This is for issues with ...</td>\n    </tr>\n    <tr>\n      <th>77938</th>\n      <td>3</td>\n      <td>Why multiple enums with same value are allowed...</td>\n    </tr>\n    <tr>\n      <th>70689</th>\n      <td>3</td>\n      <td>[clkmgr] Double check transactional clock enab...</td>\n    </tr>\n    <tr>\n      <th>245068</th>\n      <td>1</td>\n      <td>Meter data responsible sends time series and r...</td>\n    </tr>\n  </tbody>\n</table>\n</div>"
     },
     "execution_count": 24,
     "metadata": {},
     "output_type": "execute_result"
    }
   ],
   "source": [
    "# Выборка из финальной закодированной таблицы\n",
    "data_final_encoded.sample(10, random_state=7)"
   ],
   "metadata": {
    "collapsed": false,
    "pycharm": {
     "name": "#%%\n"
    }
   }
  },
  {
   "cell_type": "code",
   "execution_count": 25,
   "outputs": [],
   "source": [
    "# Сохранение датасетов в CSV-формате\n",
    "data_final.to_csv(\"data/preprocessed/issue_data.csv\", sep=\",\", index=False)\n",
    "data_final_encoded.to_csv(\"data/preprocessed/issue_data_encoded.csv\", sep=\",\", index=False)"
   ],
   "metadata": {
    "collapsed": false,
    "pycharm": {
     "name": "#%%\n"
    }
   }
  }
 ],
 "metadata": {
  "kernelspec": {
   "display_name": "Python 3",
   "language": "python",
   "name": "python3"
  },
  "language_info": {
   "codemirror_mode": {
    "name": "ipython",
    "version": 2
   },
   "file_extension": ".py",
   "mimetype": "text/x-python",
   "name": "python",
   "nbconvert_exporter": "python",
   "pygments_lexer": "ipython2",
   "version": "2.7.6"
  }
 },
 "nbformat": 4,
 "nbformat_minor": 0
}